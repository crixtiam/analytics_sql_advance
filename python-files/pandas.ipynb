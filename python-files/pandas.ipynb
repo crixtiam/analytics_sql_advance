{
 "cells": [
  {
   "cell_type": "markdown",
   "id": "450a53be",
   "metadata": {},
   "source": [
    "### 🐼 Pandas\n",
    "\n",
    "<p>Pandas es una biblioteca de Python para análisis y manipulación de datos y se utiliza mucho en ciencia de datos, machine learning, estadística y finanzas.</p>\n",
    "\n",
    "Con Pandas puedes:\n",
    "- Leer y escribir datos (CSV, Excel, SQL, JSON, etc.).\n",
    "- Limpiar, transformar y analizar datos.\n",
    "- Hacer estadísticas básicas.\n",
    "- Trabajar con datos tabulares (como si fueran tablas de Excel o SQL)."
   ]
  },
  {
   "cell_type": "markdown",
   "id": "a8137713",
   "metadata": {},
   "source": [
    "#### Instalación\n",
    "\n",
    "```python\n",
    "pip install pandas\n",
    "```\n",
    "\n",
    "importar desde un notebook\n",
    "\n",
    "```python\n",
    "import pandas as pd\n",
    "```"
   ]
  },
  {
   "cell_type": "markdown",
   "id": "c81dd863",
   "metadata": {},
   "source": [
    "### Estructuras principales de pandas\n",
    "\n",
    "Pandas tiene dos estructuras clave:\n",
    "\n",
    "#### Series\n",
    "Es un vector unidimensional (parecido a una columna de Excel).\n"
   ]
  },
  {
   "cell_type": "code",
   "execution_count": 14,
   "id": "ee1ff97d",
   "metadata": {},
   "outputs": [
    {
     "name": "stdout",
     "output_type": "stream",
     "text": [
      "0    10\n",
      "1    20\n",
      "2    30\n",
      "3    40\n",
      "Name: Numeros, dtype: int64\n"
     ]
    }
   ],
   "source": [
    "import pandas as pd\n",
    "\n",
    "serie = pd.Series([10, 20, 30, 40], name=\"Numeros\")\n",
    "print(serie)\n",
    "\n",
    "#Observa que tiene índice (0,1,2,3) y valores."
   ]
  },
  {
   "cell_type": "markdown",
   "id": "ad393233",
   "metadata": {},
   "source": [
    "#### Dataframe\n",
    "\n",
    "Es una tabla de datos en dos dimensiones (como una hoja de Excel)."
   ]
  },
  {
   "cell_type": "code",
   "execution_count": 15,
   "id": "abafe57e",
   "metadata": {},
   "outputs": [
    {
     "name": "stdout",
     "output_type": "stream",
     "text": [
      "   Nombre  Edad     Ciudad\n",
      "0     Ana    23     Bogotá\n",
      "1    Luis    30   Medellín\n",
      "2  Carlos    25       Cali\n",
      "3   Marta    35  Cartagena\n"
     ]
    }
   ],
   "source": [
    "data = {\n",
    "    \"Nombre\": [\"Ana\", \"Luis\", \"Carlos\", \"Marta\"],\n",
    "    \"Edad\": [23, 30, 25, 35],\n",
    "    \"Ciudad\": [\"Bogotá\", \"Medellín\", \"Cali\", \"Cartagena\"]\n",
    "}\n",
    "\n",
    "df = pd.DataFrame(data)\n",
    "print(df)"
   ]
  },
  {
   "cell_type": "markdown",
   "id": "bc4e11b1",
   "metadata": {},
   "source": [
    "### Operaciones basicas"
   ]
  },
  {
   "cell_type": "markdown",
   "id": "2a52b6b8",
   "metadata": {},
   "source": [
    "Ver los primeros registros"
   ]
  },
  {
   "cell_type": "code",
   "execution_count": 23,
   "id": "73772af2",
   "metadata": {},
   "outputs": [
    {
     "name": "stdout",
     "output_type": "stream",
     "text": [
      "  Nombre  Edad  Ciudad\n",
      "0    Ana    23  Bogotá\n",
      "1   Luis    30  Bogotá\n",
      "----------------------------------------\n",
      "   Nombre  Edad     Ciudad\n",
      "2  Carlos    25       Cali\n",
      "3   Marta    35  Cartagena\n"
     ]
    }
   ],
   "source": [
    "print(df.head(2))   # Primeras 5 filas\n",
    "print(\"----------------------------------------\")\n",
    "print(df.tail(2))  # Últimas 2 filas"
   ]
  },
  {
   "cell_type": "code",
   "execution_count": 24,
   "id": "0a2eb24e",
   "metadata": {},
   "outputs": [
    {
     "data": {
      "text/plain": [
       "array(['Bogotá', 'Cali', 'Cartagena'], dtype=object)"
      ]
     },
     "execution_count": 24,
     "metadata": {},
     "output_type": "execute_result"
    }
   ],
   "source": [
    "df[\"Ciudad\"].unique()"
   ]
  },
  {
   "cell_type": "markdown",
   "id": "7bb42219",
   "metadata": {},
   "source": [
    "### Información del DataFrame"
   ]
  },
  {
   "cell_type": "code",
   "execution_count": 25,
   "id": "2d8a146f",
   "metadata": {},
   "outputs": [
    {
     "name": "stdout",
     "output_type": "stream",
     "text": [
      "(4, 3)\n",
      "----------------------------------------\n",
      "Index(['Nombre', 'Edad', 'Ciudad'], dtype='object')\n",
      "----------------------------------------\n",
      "<class 'pandas.core.frame.DataFrame'>\n",
      "RangeIndex: 4 entries, 0 to 3\n",
      "Data columns (total 3 columns):\n",
      " #   Column  Non-Null Count  Dtype \n",
      "---  ------  --------------  ----- \n",
      " 0   Nombre  4 non-null      object\n",
      " 1   Edad    4 non-null      int64 \n",
      " 2   Ciudad  4 non-null      object\n",
      "dtypes: int64(1), object(2)\n",
      "memory usage: 224.0+ bytes\n",
      "None\n",
      "----------------------------------------\n",
      "            Edad\n",
      "count   4.000000\n",
      "mean   28.250000\n",
      "std     5.377422\n",
      "min    23.000000\n",
      "25%    24.500000\n",
      "50%    27.500000\n",
      "75%    31.250000\n",
      "max    35.000000\n"
     ]
    }
   ],
   "source": [
    "print(df.shape)   # (filas, columnas)\n",
    "print(\"----------------------------------------\")\n",
    "print(df.columns) # Nombres de columnas\n",
    "print(\"----------------------------------------\")\n",
    "print(df.info())  # Resumen del DataFrame\n",
    "print(\"----------------------------------------\")\n",
    "print(df.describe()) # Estadísticas numéricas"
   ]
  },
  {
   "cell_type": "code",
   "execution_count": 26,
   "id": "dbc07069",
   "metadata": {},
   "outputs": [
    {
     "data": {
      "text/plain": [
       "str"
      ]
     },
     "execution_count": 26,
     "metadata": {},
     "output_type": "execute_result"
    }
   ],
   "source": [
    "type(df[\"Nombre\"][0])"
   ]
  },
  {
   "cell_type": "markdown",
   "id": "d019d7aa",
   "metadata": {},
   "source": [
    "### Acceder a columnas y filas"
   ]
  },
  {
   "cell_type": "code",
   "execution_count": 27,
   "id": "b2a9cce4",
   "metadata": {},
   "outputs": [
    {
     "name": "stdout",
     "output_type": "stream",
     "text": [
      "0       Ana\n",
      "1      Luis\n",
      "2    Carlos\n",
      "3     Marta\n",
      "Name: Nombre, dtype: object\n",
      "----------------------------------------\n",
      "   Nombre  Edad\n",
      "0     Ana    23\n",
      "1    Luis    30\n",
      "2  Carlos    25\n",
      "3   Marta    35\n",
      "----------------------------------------\n",
      "Nombre       Ana\n",
      "Edad          23\n",
      "Ciudad    Bogotá\n",
      "Name: 0, dtype: object\n",
      "----------------------------------------\n",
      "Nombre    Carlos\n",
      "Edad          25\n",
      "Ciudad      Cali\n",
      "Name: 2, dtype: object\n",
      "----------------------------------------\n"
     ]
    }
   ],
   "source": [
    "print(df[\"Nombre\"])       # Columna específica\n",
    "print(\"----------------------------------------\")\n",
    "print(df[[\"Nombre\",\"Edad\"]]) # Varias columnas\n",
    "print(\"----------------------------------------\")\n",
    "\n",
    "print(df.iloc[0])   # Primera fila (por posición)\n",
    "print(\"----------------------------------------\")\n",
    "\n",
    "print(df.loc[2])    # Fila con índice 2\n",
    "print(\"----------------------------------------\")\n"
   ]
  },
  {
   "cell_type": "markdown",
   "id": "7c4ea3b5",
   "metadata": {},
   "source": [
    "### Filtrado y selección"
   ]
  },
  {
   "cell_type": "code",
   "execution_count": 28,
   "id": "7e9957aa",
   "metadata": {},
   "outputs": [
    {
     "data": {
      "text/plain": [
       "0    False\n",
       "1     True\n",
       "2    False\n",
       "3     True\n",
       "Name: Edad, dtype: bool"
      ]
     },
     "execution_count": 28,
     "metadata": {},
     "output_type": "execute_result"
    }
   ],
   "source": [
    "df[\"Edad\"] > 25"
   ]
  },
  {
   "cell_type": "code",
   "execution_count": 30,
   "id": "7c6fa991",
   "metadata": {},
   "outputs": [
    {
     "name": "stdout",
     "output_type": "stream",
     "text": [
      "  Nombre  Edad     Ciudad\n",
      "1   Luis    30     Bogotá\n",
      "3  Marta    35  Cartagena\n",
      "Empty DataFrame\n",
      "Columns: [Nombre, Edad, Ciudad]\n",
      "Index: []\n"
     ]
    }
   ],
   "source": [
    "# Filtrar personas mayores de 25 años\n",
    "mask = df[\"Edad\"] > 25\n",
    "mayores_25 = df[mask]\n",
    "print(mayores_25)\n",
    "\n",
    "# Filtrar por varias condiciones\n",
    "medellin = df[(df[\"Edad\"] < 35) & (df[\"Ciudad\"] == \"Medellín\")]\n",
    "print(medellin)"
   ]
  },
  {
   "cell_type": "markdown",
   "id": "1a26cadd",
   "metadata": {},
   "source": [
    "### Modificación de datos"
   ]
  },
  {
   "cell_type": "code",
   "execution_count": 36,
   "id": "23feb545",
   "metadata": {},
   "outputs": [],
   "source": [
    "# Agregar una nueva columna\n",
    "df[\"Edad+10\"] = df[\"Edad\"] + 10\n",
    "\n",
    "# Cambiar valores\n",
    "df.loc[1, \"Ciudad\"] = \"Medellin\"\n",
    "\n",
    "# Eliminar columna\n",
    "#df = df.drop(columns=[\"Edad+10\"])"
   ]
  },
  {
   "cell_type": "code",
   "execution_count": 37,
   "id": "3dde6fff",
   "metadata": {},
   "outputs": [
    {
     "data": {
      "text/html": [
       "<div>\n",
       "<style scoped>\n",
       "    .dataframe tbody tr th:only-of-type {\n",
       "        vertical-align: middle;\n",
       "    }\n",
       "\n",
       "    .dataframe tbody tr th {\n",
       "        vertical-align: top;\n",
       "    }\n",
       "\n",
       "    .dataframe thead th {\n",
       "        text-align: right;\n",
       "    }\n",
       "</style>\n",
       "<table border=\"1\" class=\"dataframe\">\n",
       "  <thead>\n",
       "    <tr style=\"text-align: right;\">\n",
       "      <th></th>\n",
       "      <th>Nombre</th>\n",
       "      <th>Edad</th>\n",
       "      <th>Ciudad</th>\n",
       "      <th>Edad+10</th>\n",
       "    </tr>\n",
       "  </thead>\n",
       "  <tbody>\n",
       "    <tr>\n",
       "      <th>0</th>\n",
       "      <td>Ana</td>\n",
       "      <td>23</td>\n",
       "      <td>Bogotá</td>\n",
       "      <td>33</td>\n",
       "    </tr>\n",
       "    <tr>\n",
       "      <th>1</th>\n",
       "      <td>Luis</td>\n",
       "      <td>30</td>\n",
       "      <td>Medellin</td>\n",
       "      <td>40</td>\n",
       "    </tr>\n",
       "    <tr>\n",
       "      <th>2</th>\n",
       "      <td>Carlos</td>\n",
       "      <td>25</td>\n",
       "      <td>Cali</td>\n",
       "      <td>35</td>\n",
       "    </tr>\n",
       "    <tr>\n",
       "      <th>3</th>\n",
       "      <td>Marta</td>\n",
       "      <td>35</td>\n",
       "      <td>Cartagena</td>\n",
       "      <td>45</td>\n",
       "    </tr>\n",
       "  </tbody>\n",
       "</table>\n",
       "</div>"
      ],
      "text/plain": [
       "   Nombre  Edad     Ciudad  Edad+10\n",
       "0     Ana    23     Bogotá       33\n",
       "1    Luis    30   Medellin       40\n",
       "2  Carlos    25       Cali       35\n",
       "3   Marta    35  Cartagena       45"
      ]
     },
     "execution_count": 37,
     "metadata": {},
     "output_type": "execute_result"
    }
   ],
   "source": [
    "df.head()"
   ]
  },
  {
   "cell_type": "markdown",
   "id": "84b12c4a",
   "metadata": {},
   "source": [
    "### Importar y exportar datos\n",
    "\n",
    "```python\n",
    "\n",
    "df_csv = pd.read_csv(\"archivo.csv\")\n",
    "df_excel = pd.read_excel(\"archivo.xlsx\")\n",
    "\n",
    "```"
   ]
  },
  {
   "cell_type": "markdown",
   "id": "fec0e18e",
   "metadata": {},
   "source": [
    "### Guardar archivos\n",
    "```python\n",
    "df.to_csv(\"datos.csv\", index=False)\n",
    "df.to_excel(\"datos.xlsx\", index=False)\n",
    "```"
   ]
  },
  {
   "cell_type": "markdown",
   "id": "cd2e4c8d",
   "metadata": {},
   "source": [
    "---"
   ]
  },
  {
   "cell_type": "markdown",
   "id": "5044b4ae",
   "metadata": {},
   "source": [
    "### Ejercicio"
   ]
  },
  {
   "cell_type": "markdown",
   "id": "404d95ed",
   "metadata": {},
   "source": [
    "About DataSet There are 13 attributes: 1. Age: Age (in years) 2. Sex: gender (1 = male; 0 = female) 3.ChestPain: Chest Pain type -- 1: typical angina (all criteria present) -- 2: atypical angina (two of three criteria satisfied) -- 3: non-anginal pain (less than one criteria satisfied) -- 4: asymptomatic (none of the criteria are satisfied) 4. Restbps: Resting Blood pressure (in mmHg, upon admission to the hospital) 5. Chol: serum cholesterol in mg/dL 6. Fbs: fasting blood sugar > 120 mg/dL (likely to be diabetic) 1 = true; 0 = false 7. RestECG: Resting electrocardiogram results -- Value 0: normal -- Value 1: having ST-T wave abnormality (T wave inversions and/or ST elevation or depression of > 0.05 mV) -- Value 2: showing probable or definite left ventricular hypertrophy by Estes' criteria 8. MaxHR: Greatest number of beats per minute your heart can possibly reach during all-out strenuous exercise. 9.Exang: exercise induced angina (1 = yes; 0 = no) 10. Oldpeak: ST depression induced by exercise relative to rest (in mm, achieved by subtracting the lowest ST segment points during exercise and rest) 11. Slope: the slope of the peak exercise ST segment, ST-T abnormalities are considered to be a crucial indicator for identifying presence of ischaemia -- Value 1: upsloping -- Value 2: flat -- Value 3: downsloping 12.Ca: number of major vessels (0-3) colored by fluoroscopy. Major cardial vessels are as goes: aorta, superior vena cava, inferior vena cava, pulmonary artery (oxygen-poor blood --> lungs), pulmonary veins (oxygen-rich blood --> heart), and coronary arteries (supplies blood to heart tissue). 13. AHD: 0 = normal; 1 = fixed defect (heart tissue can't absorb thallium both under stress and in rest); 2 = reversible defect (heart tissue is unable to absorb thallium only under the exercise portion of the test) 14.AHD: 0 = no disease, 1 = disease"
   ]
  },
  {
   "cell_type": "code",
   "execution_count": 38,
   "id": "a3651716",
   "metadata": {},
   "outputs": [],
   "source": [
    "import pandas as pd\n",
    "\n",
    "df_heart = pd.read_csv(\"data/HeartAttackDataSet.csv\")"
   ]
  },
  {
   "cell_type": "code",
   "execution_count": 39,
   "id": "2e5c78dc",
   "metadata": {},
   "outputs": [
    {
     "data": {
      "text/html": [
       "<div>\n",
       "<style scoped>\n",
       "    .dataframe tbody tr th:only-of-type {\n",
       "        vertical-align: middle;\n",
       "    }\n",
       "\n",
       "    .dataframe tbody tr th {\n",
       "        vertical-align: top;\n",
       "    }\n",
       "\n",
       "    .dataframe thead th {\n",
       "        text-align: right;\n",
       "    }\n",
       "</style>\n",
       "<table border=\"1\" class=\"dataframe\">\n",
       "  <thead>\n",
       "    <tr style=\"text-align: right;\">\n",
       "      <th></th>\n",
       "      <th>age</th>\n",
       "      <th>sex</th>\n",
       "      <th>cp</th>\n",
       "      <th>trestbps</th>\n",
       "      <th>chol</th>\n",
       "      <th>fbs</th>\n",
       "      <th>restecg</th>\n",
       "      <th>thalach</th>\n",
       "      <th>exang</th>\n",
       "      <th>oldpeak</th>\n",
       "      <th>slope</th>\n",
       "      <th>ca</th>\n",
       "      <th>thal</th>\n",
       "      <th>target</th>\n",
       "    </tr>\n",
       "  </thead>\n",
       "  <tbody>\n",
       "    <tr>\n",
       "      <th>0</th>\n",
       "      <td>63</td>\n",
       "      <td>1</td>\n",
       "      <td>3</td>\n",
       "      <td>145</td>\n",
       "      <td>233</td>\n",
       "      <td>1</td>\n",
       "      <td>0</td>\n",
       "      <td>150</td>\n",
       "      <td>0</td>\n",
       "      <td>2.3</td>\n",
       "      <td>0</td>\n",
       "      <td>0</td>\n",
       "      <td>1</td>\n",
       "      <td>1</td>\n",
       "    </tr>\n",
       "    <tr>\n",
       "      <th>1</th>\n",
       "      <td>37</td>\n",
       "      <td>1</td>\n",
       "      <td>2</td>\n",
       "      <td>130</td>\n",
       "      <td>250</td>\n",
       "      <td>0</td>\n",
       "      <td>1</td>\n",
       "      <td>187</td>\n",
       "      <td>0</td>\n",
       "      <td>3.5</td>\n",
       "      <td>0</td>\n",
       "      <td>0</td>\n",
       "      <td>2</td>\n",
       "      <td>1</td>\n",
       "    </tr>\n",
       "    <tr>\n",
       "      <th>2</th>\n",
       "      <td>41</td>\n",
       "      <td>0</td>\n",
       "      <td>1</td>\n",
       "      <td>130</td>\n",
       "      <td>204</td>\n",
       "      <td>0</td>\n",
       "      <td>0</td>\n",
       "      <td>172</td>\n",
       "      <td>0</td>\n",
       "      <td>1.4</td>\n",
       "      <td>2</td>\n",
       "      <td>0</td>\n",
       "      <td>2</td>\n",
       "      <td>1</td>\n",
       "    </tr>\n",
       "    <tr>\n",
       "      <th>3</th>\n",
       "      <td>56</td>\n",
       "      <td>1</td>\n",
       "      <td>1</td>\n",
       "      <td>120</td>\n",
       "      <td>236</td>\n",
       "      <td>0</td>\n",
       "      <td>1</td>\n",
       "      <td>178</td>\n",
       "      <td>0</td>\n",
       "      <td>0.8</td>\n",
       "      <td>2</td>\n",
       "      <td>0</td>\n",
       "      <td>2</td>\n",
       "      <td>1</td>\n",
       "    </tr>\n",
       "    <tr>\n",
       "      <th>4</th>\n",
       "      <td>57</td>\n",
       "      <td>0</td>\n",
       "      <td>0</td>\n",
       "      <td>120</td>\n",
       "      <td>354</td>\n",
       "      <td>0</td>\n",
       "      <td>1</td>\n",
       "      <td>163</td>\n",
       "      <td>1</td>\n",
       "      <td>0.6</td>\n",
       "      <td>2</td>\n",
       "      <td>0</td>\n",
       "      <td>2</td>\n",
       "      <td>1</td>\n",
       "    </tr>\n",
       "  </tbody>\n",
       "</table>\n",
       "</div>"
      ],
      "text/plain": [
       "   age  sex  cp  trestbps  chol  fbs  restecg  thalach  exang  oldpeak  slope  \\\n",
       "0   63    1   3       145   233    1        0      150      0      2.3      0   \n",
       "1   37    1   2       130   250    0        1      187      0      3.5      0   \n",
       "2   41    0   1       130   204    0        0      172      0      1.4      2   \n",
       "3   56    1   1       120   236    0        1      178      0      0.8      2   \n",
       "4   57    0   0       120   354    0        1      163      1      0.6      2   \n",
       "\n",
       "   ca  thal  target  \n",
       "0   0     1       1  \n",
       "1   0     2       1  \n",
       "2   0     2       1  \n",
       "3   0     2       1  \n",
       "4   0     2       1  "
      ]
     },
     "execution_count": 39,
     "metadata": {},
     "output_type": "execute_result"
    }
   ],
   "source": [
    "df_heart.head()"
   ]
  },
  {
   "cell_type": "code",
   "execution_count": 40,
   "id": "e5820be4",
   "metadata": {},
   "outputs": [
    {
     "data": {
      "text/plain": [
       "Index(['age', 'sex', 'cp', 'trestbps', 'chol', 'fbs', 'restecg', 'thalach',\n",
       "       'exang', 'oldpeak', 'slope', 'ca', 'thal', 'target'],\n",
       "      dtype='object')"
      ]
     },
     "execution_count": 40,
     "metadata": {},
     "output_type": "execute_result"
    }
   ],
   "source": [
    "df_heart.columns"
   ]
  },
  {
   "cell_type": "markdown",
   "id": "84fdb164",
   "metadata": {},
   "source": []
  }
 ],
 "metadata": {
  "kernelspec": {
   "display_name": ".venv",
   "language": "python",
   "name": "python3"
  },
  "language_info": {
   "codemirror_mode": {
    "name": "ipython",
    "version": 3
   },
   "file_extension": ".py",
   "mimetype": "text/x-python",
   "name": "python",
   "nbconvert_exporter": "python",
   "pygments_lexer": "ipython3",
   "version": "3.10.10"
  }
 },
 "nbformat": 4,
 "nbformat_minor": 5
}
