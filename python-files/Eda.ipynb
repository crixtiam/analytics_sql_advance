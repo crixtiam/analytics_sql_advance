{
 "cells": [
  {
   "cell_type": "markdown",
   "id": "4469f613",
   "metadata": {},
   "source": [
    "#### 1. Identificar y entender valores faltantes"
   ]
  },
  {
   "cell_type": "markdown",
   "id": "5dcf7424",
   "metadata": {},
   "source": [
    "##### Libreria "
   ]
  },
  {
   "cell_type": "code",
   "execution_count": 5,
   "id": "4a6f3aad",
   "metadata": {},
   "outputs": [],
   "source": [
    "import pandas as pd\n",
    "import seaborn as sns\n",
    "import matplotlib.pyplot as plt\n",
    "from scipy.stats import ttest_ind"
   ]
  },
  {
   "cell_type": "code",
   "execution_count": 29,
   "id": "ca4c2309",
   "metadata": {},
   "outputs": [
    {
     "data": {
      "text/html": [
       "<div>\n",
       "<style scoped>\n",
       "    .dataframe tbody tr th:only-of-type {\n",
       "        vertical-align: middle;\n",
       "    }\n",
       "\n",
       "    .dataframe tbody tr th {\n",
       "        vertical-align: top;\n",
       "    }\n",
       "\n",
       "    .dataframe thead th {\n",
       "        text-align: right;\n",
       "    }\n",
       "</style>\n",
       "<table border=\"1\" class=\"dataframe\">\n",
       "  <thead>\n",
       "    <tr style=\"text-align: right;\">\n",
       "      <th></th>\n",
       "      <th>edad</th>\n",
       "      <th>salario</th>\n",
       "      <th>genero</th>\n",
       "      <th>ciudad</th>\n",
       "    </tr>\n",
       "  </thead>\n",
       "  <tbody>\n",
       "    <tr>\n",
       "      <th>0</th>\n",
       "      <td>25.0</td>\n",
       "      <td>30000.0</td>\n",
       "      <td>M</td>\n",
       "      <td>Lima</td>\n",
       "    </tr>\n",
       "    <tr>\n",
       "      <th>1</th>\n",
       "      <td>30.0</td>\n",
       "      <td>NaN</td>\n",
       "      <td>F</td>\n",
       "      <td>Arequipa</td>\n",
       "    </tr>\n",
       "    <tr>\n",
       "      <th>2</th>\n",
       "      <td>NaN</td>\n",
       "      <td>45000.0</td>\n",
       "      <td>F</td>\n",
       "      <td>Lima</td>\n",
       "    </tr>\n",
       "    <tr>\n",
       "      <th>3</th>\n",
       "      <td>40.0</td>\n",
       "      <td>50000.0</td>\n",
       "      <td>None</td>\n",
       "      <td>Cusco</td>\n",
       "    </tr>\n",
       "    <tr>\n",
       "      <th>4</th>\n",
       "      <td>35.0</td>\n",
       "      <td>35000.0</td>\n",
       "      <td>M</td>\n",
       "      <td>None</td>\n",
       "    </tr>\n",
       "    <tr>\n",
       "      <th>5</th>\n",
       "      <td>NaN</td>\n",
       "      <td>40000.0</td>\n",
       "      <td>F</td>\n",
       "      <td>Trujillo</td>\n",
       "    </tr>\n",
       "    <tr>\n",
       "      <th>6</th>\n",
       "      <td>28.0</td>\n",
       "      <td>NaN</td>\n",
       "      <td>M</td>\n",
       "      <td>Lima</td>\n",
       "    </tr>\n",
       "    <tr>\n",
       "      <th>7</th>\n",
       "      <td>50.0</td>\n",
       "      <td>60000.0</td>\n",
       "      <td>F</td>\n",
       "      <td>Arequipa</td>\n",
       "    </tr>\n",
       "    <tr>\n",
       "      <th>8</th>\n",
       "      <td>45.0</td>\n",
       "      <td>55000.0</td>\n",
       "      <td>None</td>\n",
       "      <td>Cusco</td>\n",
       "    </tr>\n",
       "    <tr>\n",
       "      <th>9</th>\n",
       "      <td>NaN</td>\n",
       "      <td>32000.0</td>\n",
       "      <td>M</td>\n",
       "      <td>Lima</td>\n",
       "    </tr>\n",
       "  </tbody>\n",
       "</table>\n",
       "</div>"
      ],
      "text/plain": [
       "   edad  salario genero    ciudad\n",
       "0  25.0  30000.0      M      Lima\n",
       "1  30.0      NaN      F  Arequipa\n",
       "2   NaN  45000.0      F      Lima\n",
       "3  40.0  50000.0   None     Cusco\n",
       "4  35.0  35000.0      M      None\n",
       "5   NaN  40000.0      F  Trujillo\n",
       "6  28.0      NaN      M      Lima\n",
       "7  50.0  60000.0      F  Arequipa\n",
       "8  45.0  55000.0   None     Cusco\n",
       "9   NaN  32000.0      M      Lima"
      ]
     },
     "execution_count": 29,
     "metadata": {},
     "output_type": "execute_result"
    }
   ],
   "source": [
    "# 1. Crear un dataset ficticio para el ejemplo\n",
    "data = {\n",
    "    'edad': [25, 30, None, 40, 35, None, 28, 50, 45, None],\n",
    "    'salario': [30000, None, 45000, 50000, 35000, 40000, None, 60000, 55000, 32000],\n",
    "    'genero': ['M', 'F', 'F', None, 'M', 'F', 'M', 'F', None, 'M'],\n",
    "    'ciudad': ['Lima', 'Arequipa', 'Lima', 'Cusco', None, 'Trujillo', 'Lima', 'Arequipa', 'Cusco', 'Lima']\n",
    "}\n",
    "\n",
    "df = pd.DataFrame(data)\n",
    "df.head(20)"
   ]
  },
  {
   "cell_type": "code",
   "execution_count": 30,
   "id": "c9ce0415",
   "metadata": {},
   "outputs": [
    {
     "name": "stdout",
     "output_type": "stream",
     "text": [
      "Cantidad de valores faltantes por columna:\n",
      "edad       30.0\n",
      "salario    20.0\n",
      "genero     20.0\n",
      "ciudad     10.0\n",
      "dtype: float64\n",
      "\n",
      "Porcentaje de valores faltantes por columna:\n",
      "edad       30.0\n",
      "salario    20.0\n",
      "genero     20.0\n",
      "ciudad     10.0\n",
      "dtype: float64\n"
     ]
    }
   ],
   "source": [
    "# 2. Identificar valores faltantes\n",
    "print(\"Cantidad de valores faltantes por columna:\")\n",
    "print(df.isnull().sum()/len(df) * 100)\n",
    "print(\"\\nPorcentaje de valores faltantes por columna:\")\n",
    "print(df.isnull().mean() * 100)"
   ]
  },
  {
   "cell_type": "code",
   "execution_count": 32,
   "id": "ebc923b0",
   "metadata": {},
   "outputs": [
    {
     "data": {
      "image/png": "[encoded data removed]",
      "text/plain": [
       "<Figure size 800x600 with 1 Axes>"
      ]
     },
     "metadata": {},
     "output_type": "display_data"
    }
   ],
   "source": [
    "# 3. Visualizar valores faltantes con un heatmap\n",
    "plt.figure(figsize=(8, 6))\n",
    "sns.heatmap(df.isnull(), cbar=False, cmap='coolwarm')\n",
    "plt.title(\"Mapa de calor de valores faltantes\")\n",
    "plt.show()"
   ]
  },
  {
   "cell_type": "code",
   "execution_count": 11,
   "id": "f1e84f42",
   "metadata": {},
   "outputs": [
    {
     "name": "stdout",
     "output_type": "stream",
     "text": [
      "\n",
      "Distribución de 'genero' cuando 'salario' está faltante:\n",
      "genero\n",
      "F    0.5\n",
      "M    0.5\n",
      "Name: proportion, dtype: float64\n",
      "\n",
      "Distribución de 'genero' cuando 'salario' está presente:\n",
      "genero\n",
      "M    0.5\n",
      "F    0.5\n",
      "Name: proportion, dtype: float64\n"
     ]
    }
   ],
   "source": [
    "# 4. Analizar mecanismo de faltantes (ejemplo exploratorio)\n",
    "# Hipótesis: ¿Los faltantes en 'salario' están relacionados con 'genero'?\n",
    "# Comparar distribuciones de 'genero' en filas con y sin 'salario' faltante\n",
    "salario_missing = df[df['salario'].isnull()]['genero'].value_counts(normalize=True)\n",
    "salario_present = df[df['salario'].notnull()]['genero'].value_counts(normalize=True)\n",
    "print(\"\\nDistribución de 'genero' cuando 'salario' está faltante:\")\n",
    "print(salario_missing)\n",
    "print(\"\\nDistribución de 'genero' cuando 'salario' está presente:\")\n",
    "print(salario_present)"
   ]
  },
  {
   "cell_type": "code",
   "execution_count": 12,
   "id": "a1c2dd7d",
   "metadata": {},
   "outputs": [
    {
     "name": "stdout",
     "output_type": "stream",
     "text": [
      "\n",
      "Prueba t para 'edad' con/sin 'salario' faltante: p-valor = 0.0803\n",
      "No hay evidencia suficiente para rechazar MCAR.\n"
     ]
    }
   ],
   "source": [
    "# 5. Prueba estadística para verificar si los faltantes son MCAR\n",
    "# Comparar 'edad' en filas con y sin 'salario' faltante\n",
    "edad_con_salario = df[df['salario'].notnull()]['edad'].dropna()\n",
    "edad_sin_salario = df[df['salario'].isnull()]['edad'].dropna()\n",
    "t_stat, p_value = ttest_ind(edad_con_salario, edad_sin_salario, equal_var=False)\n",
    "print(f\"\\nPrueba t para 'edad' con/sin 'salario' faltante: p-valor = {p_value:.4f}\")\n",
    "if p_value < 0.05:\n",
    "    print(\"Evidencia de que los faltantes en 'salario' no son MCAR (puede ser MAR).\")\n",
    "else:\n",
    "    print(\"No hay evidencia suficiente para rechazar MCAR.\")"
   ]
  },
  {
   "cell_type": "markdown",
   "id": "7d21e6a3",
   "metadata": {},
   "source": [
    "MNAR: Si sospechas MNAR (e.g., personas con salarios altos no reportan), explora proxies (otras variables correlacionadas) o considera sensibilidad (imputar rangos altos/bajos y comparar resultados).\n",
    "Siguientes Pasos: Basado en el análisis, decide si eliminar filas/columnas o imputar. Por ejemplo, si edad tiene 30% faltantes pero es MCAR, eliminar filas puede ser aceptable. Si es MAR, prueba KNNImputer (puedo darte un ejemplo si lo necesitas)."
   ]
  },
  {
   "cell_type": "markdown",
   "id": "623f2bd0",
   "metadata": {},
   "source": [
    "Siguientes Pasos: Basado en el análisis, decide si eliminar filas/columnas o imputar. Por ejemplo, si edad tiene 30% faltantes pero es MCAR, eliminar filas puede ser aceptable. Si es MAR, prueba KNNImputer (puedo darte un ejemplo si lo necesitas)"
   ]
  },
  {
   "cell_type": "markdown",
   "id": "a370a91a",
   "metadata": {},
   "source": [
    "**Faltantes Completamente al Azar (MCAR)**: la falta de datos es ajena a los datos mismos. Su localización en el conjunto de datos es completamente al azar, es decir, la probabilidad de que falte un valor es la misma para todas las observaciones y no esta relacionada con ninguna característica de los datos. Un ejemplo es una balanza que se queda sin batería y no registra el peso de algunos objetos. Es completamente aleatorio, no tiene preferencia por algunos registros."
   ]
  },
  {
   "cell_type": "markdown",
   "id": "67f4086c",
   "metadata": {},
   "source": [
    "**Faltantes al Azar (MAR)**: La falta de datos depende de algunos valores observados. La probabilidad de que falte un valor puede variar según las observaciones, pero solo en función de las variables que tienen valores completos. Por ejemplo, si en una encuesta sobre hábitos alimenticios algunas personas no responden a la pregunta sobre el consumo de carnes por razones éticas o religiosas, serán de tipo MAR si se conoce la variable que indica la condición ética o religiosa de los encuestados.\n",
    "\n",
    "**Faltantes No al Azar (MNAR)**: La localización de los valores faltantes dependen de los valores en sí mismo. La probabilidad de que falte un valor puede variar según las observaciones y esta relacionada con la variable que tiene valores faltantes. Un ejemplo es una encuesta sobre ingresos donde algunas personas no responden a la pregunta sobre el salario por privacidad. En este caso son de tipo MNAR porque el salario esta correlacionado con la intención de responder."
   ]
  },
  {
   "cell_type": "markdown",
   "id": "f16dbc98",
   "metadata": {},
   "source": [
    "<img src=\"./image.png\" width=\"500\">"
   ]
  },
  {
   "cell_type": "markdown",
   "id": "b4d30de1",
   "metadata": {},
   "source": [
    "Estos mecanismos importan porque:\n",
    "\n",
    "Bajo MCAR, métodos simples como eliminar casos o imputar con la media funcionan sin sesgo.\n",
    "\n",
    "Bajo MAR, se recomiendan imputaciones avanzadas (e.g., regresión o k-NN).\n",
    "\n",
    "Bajo MNAR, es difícil; a menudo se requiere modelado especial (e.g., selection models) o suposiciones \"what-if\"."
   ]
  },
  {
   "cell_type": "code",
   "execution_count": 33,
   "id": "e1748797",
   "metadata": {},
   "outputs": [
    {
     "name": "stdout",
     "output_type": "stream",
     "text": [
      "Porcentaje de valores faltantes por columna (solo con nulos):\n",
      "Series([], dtype: float64)\n"
     ]
    }
   ],
   "source": [
    "import pandas as pd\n",
    "import numpy as np\n",
    "from sklearn.linear_model import LinearRegression\n",
    "from sklearn.model_selection import train_test_split\n",
    "from sklearn.metrics import r2_score\n",
    "from scipy.stats import chi2_contingency\n",
    "\n",
    "df = pd.read_csv(\"./data/boston.csv\")\n",
    "\n",
    "print(\"Porcentaje de valores faltantes por columna (solo con nulos):\")\n",
    "missing_pct = df.isnull().sum() / len(df) * 100\n",
    "missing_cols = missing_pct[missing_pct > 0].sort_values(ascending=False)\n",
    "print(missing_cols)"
   ]
  },
  {
   "cell_type": "markdown",
   "id": "4ba8ad3e",
   "metadata": {},
   "source": [
    "---"
   ]
  },
  {
   "cell_type": "code",
   "execution_count": 22,
   "id": "d44cbba8",
   "metadata": {},
   "outputs": [
    {
     "data": {
      "text/plain": [
       "Index(['CRIM', 'ZN', 'INDUS', 'CHAS', 'NOX', 'RM', 'AGE', 'DIS', 'RAD', 'TAX',\n",
       "       'PTRATIO', 'B', 'LSTAT', 'MEDV'],\n",
       "      dtype='object')"
      ]
     },
     "execution_count": 22,
     "metadata": {},
     "output_type": "execute_result"
    }
   ],
   "source": [
    "df.columns"
   ]
  },
  {
   "cell_type": "code",
   "execution_count": 23,
   "id": "64649b83",
   "metadata": {},
   "outputs": [
    {
     "data": {
      "text/html": [
       "<div>\n",
       "<style scoped>\n",
       "    .dataframe tbody tr th:only-of-type {\n",
       "        vertical-align: middle;\n",
       "    }\n",
       "\n",
       "    .dataframe tbody tr th {\n",
       "        vertical-align: top;\n",
       "    }\n",
       "\n",
       "    .dataframe thead th {\n",
       "        text-align: right;\n",
       "    }\n",
       "</style>\n",
       "<table border=\"1\" class=\"dataframe\">\n",
       "  <thead>\n",
       "    <tr style=\"text-align: right;\">\n",
       "      <th></th>\n",
       "      <th>CRIM</th>\n",
       "      <th>ZN</th>\n",
       "      <th>INDUS</th>\n",
       "      <th>CHAS</th>\n",
       "      <th>NOX</th>\n",
       "      <th>RM</th>\n",
       "      <th>AGE</th>\n",
       "      <th>DIS</th>\n",
       "      <th>RAD</th>\n",
       "      <th>TAX</th>\n",
       "      <th>PTRATIO</th>\n",
       "      <th>B</th>\n",
       "      <th>LSTAT</th>\n",
       "      <th>MEDV</th>\n",
       "    </tr>\n",
       "  </thead>\n",
       "  <tbody>\n",
       "    <tr>\n",
       "      <th>0</th>\n",
       "      <td>0.00632</td>\n",
       "      <td>18.0</td>\n",
       "      <td>2.31</td>\n",
       "      <td>0</td>\n",
       "      <td>0.538</td>\n",
       "      <td>6.575</td>\n",
       "      <td>65.2</td>\n",
       "      <td>4.0900</td>\n",
       "      <td>1</td>\n",
       "      <td>296.0</td>\n",
       "      <td>15.3</td>\n",
       "      <td>396.90</td>\n",
       "      <td>4.98</td>\n",
       "      <td>24.0</td>\n",
       "    </tr>\n",
       "    <tr>\n",
       "      <th>1</th>\n",
       "      <td>0.02731</td>\n",
       "      <td>0.0</td>\n",
       "      <td>7.07</td>\n",
       "      <td>0</td>\n",
       "      <td>0.469</td>\n",
       "      <td>6.421</td>\n",
       "      <td>78.9</td>\n",
       "      <td>4.9671</td>\n",
       "      <td>2</td>\n",
       "      <td>242.0</td>\n",
       "      <td>17.8</td>\n",
       "      <td>396.90</td>\n",
       "      <td>9.14</td>\n",
       "      <td>21.6</td>\n",
       "    </tr>\n",
       "    <tr>\n",
       "      <th>2</th>\n",
       "      <td>0.02729</td>\n",
       "      <td>0.0</td>\n",
       "      <td>7.07</td>\n",
       "      <td>0</td>\n",
       "      <td>0.469</td>\n",
       "      <td>7.185</td>\n",
       "      <td>61.1</td>\n",
       "      <td>4.9671</td>\n",
       "      <td>2</td>\n",
       "      <td>242.0</td>\n",
       "      <td>17.8</td>\n",
       "      <td>392.83</td>\n",
       "      <td>4.03</td>\n",
       "      <td>34.7</td>\n",
       "    </tr>\n",
       "    <tr>\n",
       "      <th>3</th>\n",
       "      <td>0.03237</td>\n",
       "      <td>0.0</td>\n",
       "      <td>2.18</td>\n",
       "      <td>0</td>\n",
       "      <td>0.458</td>\n",
       "      <td>6.998</td>\n",
       "      <td>45.8</td>\n",
       "      <td>6.0622</td>\n",
       "      <td>3</td>\n",
       "      <td>222.0</td>\n",
       "      <td>18.7</td>\n",
       "      <td>394.63</td>\n",
       "      <td>2.94</td>\n",
       "      <td>33.4</td>\n",
       "    </tr>\n",
       "    <tr>\n",
       "      <th>4</th>\n",
       "      <td>0.06905</td>\n",
       "      <td>0.0</td>\n",
       "      <td>2.18</td>\n",
       "      <td>0</td>\n",
       "      <td>0.458</td>\n",
       "      <td>7.147</td>\n",
       "      <td>54.2</td>\n",
       "      <td>6.0622</td>\n",
       "      <td>3</td>\n",
       "      <td>222.0</td>\n",
       "      <td>18.7</td>\n",
       "      <td>396.90</td>\n",
       "      <td>5.33</td>\n",
       "      <td>36.2</td>\n",
       "    </tr>\n",
       "  </tbody>\n",
       "</table>\n",
       "</div>"
      ],
      "text/plain": [
       "      CRIM    ZN  INDUS  CHAS    NOX     RM   AGE     DIS  RAD    TAX  \\\n",
       "0  0.00632  18.0   2.31     0  0.538  6.575  65.2  4.0900    1  296.0   \n",
       "1  0.02731   0.0   7.07     0  0.469  6.421  78.9  4.9671    2  242.0   \n",
       "2  0.02729   0.0   7.07     0  0.469  7.185  61.1  4.9671    2  242.0   \n",
       "3  0.03237   0.0   2.18     0  0.458  6.998  45.8  6.0622    3  222.0   \n",
       "4  0.06905   0.0   2.18     0  0.458  7.147  54.2  6.0622    3  222.0   \n",
       "\n",
       "   PTRATIO       B  LSTAT  MEDV  \n",
       "0     15.3  396.90   4.98  24.0  \n",
       "1     17.8  396.90   9.14  21.6  \n",
       "2     17.8  392.83   4.03  34.7  \n",
       "3     18.7  394.63   2.94  33.4  \n",
       "4     18.7  396.90   5.33  36.2  "
      ]
     },
     "execution_count": 23,
     "metadata": {},
     "output_type": "execute_result"
    }
   ],
   "source": [
    "df.head()"
   ]
  },
  {
   "cell_type": "code",
   "execution_count": 18,
   "id": "0b4b973b",
   "metadata": {},
   "outputs": [
    {
     "data": {
      "text/plain": [
       "CRIM       0\n",
       "ZN         0\n",
       "INDUS      0\n",
       "CHAS       0\n",
       "NOX        0\n",
       "RM         0\n",
       "AGE        0\n",
       "DIS        0\n",
       "RAD        0\n",
       "TAX        0\n",
       "PTRATIO    0\n",
       "B          0\n",
       "LSTAT      0\n",
       "MEDV       0\n",
       "dtype: int64"
      ]
     },
     "execution_count": 18,
     "metadata": {},
     "output_type": "execute_result"
    }
   ],
   "source": [
    "df.isnull().sum()"
   ]
  },
  {
   "cell_type": "code",
   "execution_count": 24,
   "id": "283128c3",
   "metadata": {},
   "outputs": [
    {
     "name": "stdout",
     "output_type": "stream",
     "text": [
      "<class 'pandas.core.frame.DataFrame'>\n",
      "RangeIndex: 506 entries, 0 to 505\n",
      "Data columns (total 14 columns):\n",
      " #   Column   Non-Null Count  Dtype  \n",
      "---  ------   --------------  -----  \n",
      " 0   CRIM     506 non-null    float64\n",
      " 1   ZN       506 non-null    float64\n",
      " 2   INDUS    506 non-null    float64\n",
      " 3   CHAS     506 non-null    int64  \n",
      " 4   NOX      506 non-null    float64\n",
      " 5   RM       506 non-null    float64\n",
      " 6   AGE      506 non-null    float64\n",
      " 7   DIS      506 non-null    float64\n",
      " 8   RAD      506 non-null    int64  \n",
      " 9   TAX      506 non-null    float64\n",
      " 10  PTRATIO  506 non-null    float64\n",
      " 11  B        506 non-null    float64\n",
      " 12  LSTAT    506 non-null    float64\n",
      " 13  MEDV     506 non-null    float64\n",
      "dtypes: float64(12), int64(2)\n",
      "memory usage: 55.5 KB\n"
     ]
    }
   ],
   "source": [
    "df.info()"
   ]
  },
  {
   "cell_type": "markdown",
   "id": "63f408c6",
   "metadata": {},
   "source": [
    "----"
   ]
  },
  {
   "cell_type": "markdown",
   "id": "7ecc94ec",
   "metadata": {},
   "source": [
    "#### OMITIR"
   ]
  },
  {
   "cell_type": "code",
   "execution_count": 34,
   "id": "8e3c656a",
   "metadata": {},
   "outputs": [
    {
     "name": "stdout",
     "output_type": "stream",
     "text": [
      "Porcentaje de valores faltantes por columna (tras introducir nulos):\n",
      "CRIM    22.727273\n",
      "NOX      2.964427\n",
      "TAX      0.988142\n",
      "dtype: float64\n"
     ]
    },
    {
     "data": {
      "image/png": "[encoded data removed]",
      "text/plain": [
       "<Figure size 1000x600 with 1 Axes>"
      ]
     },
     "metadata": {},
     "output_type": "display_data"
    }
   ],
   "source": [
    "import pandas as pd\n",
    "import numpy as np\n",
    "\n",
    "# Configurar semilla para reproducibilidad\n",
    "np.random.seed(42)\n",
    "\n",
    "# Hacer una copia del dataset original\n",
    "df_original = df.copy()\n",
    "\n",
    "# Introducir valores faltantes\n",
    "# a) MCAR: 20% faltantes en 'crim' (aleatorio)\n",
    "mcar_mask = np.random.choice([True, False], size=len(df), p=[0.2, 0.8])\n",
    "df.loc[mcar_mask, 'CRIM'] = np.nan\n",
    "\n",
    "# b) MAR: Faltantes en 'nox' si chas=1 (40% probabilidad)\n",
    "mar_mask = (df['CHAS'] == 1) & (np.random.random(len(df)) < 0.4)\n",
    "df.loc[mar_mask, 'NOX'] = np.nan\n",
    "\n",
    "# c) MNAR: Faltantes en 'tax' para valores altos (> percentil 75)\n",
    "mnar_mask = df['TAX'] > df['TAX'].quantile(0.75)\n",
    "df.loc[mnar_mask, 'TAX'] = np.nan\n",
    "\n",
    "# Verificar valores faltantes\n",
    "print(\"Porcentaje de valores faltantes por columna (tras introducir nulos):\")\n",
    "missing_pct = df.isnull().sum() / len(df) * 100\n",
    "missing_cols = missing_pct[missing_pct > 0].sort_values(ascending=False)\n",
    "print(missing_cols)\n",
    "\n",
    "# Visualizar con heatmap\n",
    "import seaborn as sns\n",
    "import matplotlib.pyplot as plt\n",
    "plt.figure(figsize=(10, 6))\n",
    "sns.heatmap(df.isnull(), cbar=False, cmap='viridis')\n",
    "plt.title(\"Mapa de calor de valores faltantes\")\n",
    "plt.show()"
   ]
  },
  {
   "cell_type": "code",
   "execution_count": 35,
   "id": "c4783771",
   "metadata": {},
   "outputs": [
    {
     "data": {
      "text/html": [
       "<div>\n",
       "<style scoped>\n",
       "    .dataframe tbody tr th:only-of-type {\n",
       "        vertical-align: middle;\n",
       "    }\n",
       "\n",
       "    .dataframe tbody tr th {\n",
       "        vertical-align: top;\n",
       "    }\n",
       "\n",
       "    .dataframe thead th {\n",
       "        text-align: right;\n",
       "    }\n",
       "</style>\n",
       "<table border=\"1\" class=\"dataframe\">\n",
       "  <thead>\n",
       "    <tr style=\"text-align: right;\">\n",
       "      <th></th>\n",
       "      <th>CRIM</th>\n",
       "      <th>ZN</th>\n",
       "      <th>INDUS</th>\n",
       "      <th>CHAS</th>\n",
       "      <th>NOX</th>\n",
       "      <th>RM</th>\n",
       "      <th>AGE</th>\n",
       "      <th>DIS</th>\n",
       "      <th>RAD</th>\n",
       "      <th>TAX</th>\n",
       "      <th>PTRATIO</th>\n",
       "      <th>B</th>\n",
       "      <th>LSTAT</th>\n",
       "      <th>MEDV</th>\n",
       "    </tr>\n",
       "  </thead>\n",
       "  <tbody>\n",
       "    <tr>\n",
       "      <th>0</th>\n",
       "      <td>0.00632</td>\n",
       "      <td>18.0</td>\n",
       "      <td>2.31</td>\n",
       "      <td>0</td>\n",
       "      <td>0.538</td>\n",
       "      <td>6.575</td>\n",
       "      <td>65.2</td>\n",
       "      <td>4.0900</td>\n",
       "      <td>1</td>\n",
       "      <td>296.0</td>\n",
       "      <td>15.3</td>\n",
       "      <td>396.90</td>\n",
       "      <td>4.98</td>\n",
       "      <td>24.0</td>\n",
       "    </tr>\n",
       "    <tr>\n",
       "      <th>1</th>\n",
       "      <td>0.02731</td>\n",
       "      <td>0.0</td>\n",
       "      <td>7.07</td>\n",
       "      <td>0</td>\n",
       "      <td>0.469</td>\n",
       "      <td>6.421</td>\n",
       "      <td>78.9</td>\n",
       "      <td>4.9671</td>\n",
       "      <td>2</td>\n",
       "      <td>242.0</td>\n",
       "      <td>17.8</td>\n",
       "      <td>396.90</td>\n",
       "      <td>9.14</td>\n",
       "      <td>21.6</td>\n",
       "    </tr>\n",
       "    <tr>\n",
       "      <th>2</th>\n",
       "      <td>0.02729</td>\n",
       "      <td>0.0</td>\n",
       "      <td>7.07</td>\n",
       "      <td>0</td>\n",
       "      <td>0.469</td>\n",
       "      <td>7.185</td>\n",
       "      <td>61.1</td>\n",
       "      <td>4.9671</td>\n",
       "      <td>2</td>\n",
       "      <td>242.0</td>\n",
       "      <td>17.8</td>\n",
       "      <td>392.83</td>\n",
       "      <td>4.03</td>\n",
       "      <td>34.7</td>\n",
       "    </tr>\n",
       "    <tr>\n",
       "      <th>3</th>\n",
       "      <td>0.03237</td>\n",
       "      <td>0.0</td>\n",
       "      <td>2.18</td>\n",
       "      <td>0</td>\n",
       "      <td>0.458</td>\n",
       "      <td>6.998</td>\n",
       "      <td>45.8</td>\n",
       "      <td>6.0622</td>\n",
       "      <td>3</td>\n",
       "      <td>222.0</td>\n",
       "      <td>18.7</td>\n",
       "      <td>394.63</td>\n",
       "      <td>2.94</td>\n",
       "      <td>33.4</td>\n",
       "    </tr>\n",
       "    <tr>\n",
       "      <th>4</th>\n",
       "      <td>NaN</td>\n",
       "      <td>0.0</td>\n",
       "      <td>2.18</td>\n",
       "      <td>0</td>\n",
       "      <td>0.458</td>\n",
       "      <td>7.147</td>\n",
       "      <td>54.2</td>\n",
       "      <td>6.0622</td>\n",
       "      <td>3</td>\n",
       "      <td>222.0</td>\n",
       "      <td>18.7</td>\n",
       "      <td>396.90</td>\n",
       "      <td>5.33</td>\n",
       "      <td>36.2</td>\n",
       "    </tr>\n",
       "  </tbody>\n",
       "</table>\n",
       "</div>"
      ],
      "text/plain": [
       "      CRIM    ZN  INDUS  CHAS    NOX     RM   AGE     DIS  RAD    TAX  \\\n",
       "0  0.00632  18.0   2.31     0  0.538  6.575  65.2  4.0900    1  296.0   \n",
       "1  0.02731   0.0   7.07     0  0.469  6.421  78.9  4.9671    2  242.0   \n",
       "2  0.02729   0.0   7.07     0  0.469  7.185  61.1  4.9671    2  242.0   \n",
       "3  0.03237   0.0   2.18     0  0.458  6.998  45.8  6.0622    3  222.0   \n",
       "4      NaN   0.0   2.18     0  0.458  7.147  54.2  6.0622    3  222.0   \n",
       "\n",
       "   PTRATIO       B  LSTAT  MEDV  \n",
       "0     15.3  396.90   4.98  24.0  \n",
       "1     17.8  396.90   9.14  21.6  \n",
       "2     17.8  392.83   4.03  34.7  \n",
       "3     18.7  394.63   2.94  33.4  \n",
       "4     18.7  396.90   5.33  36.2  "
      ]
     },
     "execution_count": 35,
     "metadata": {},
     "output_type": "execute_result"
    }
   ],
   "source": [
    "df.head()"
   ]
  },
  {
   "cell_type": "code",
   "execution_count": 36,
   "id": "567f19e7",
   "metadata": {},
   "outputs": [
    {
     "data": {
      "text/plain": [
       "(506, 14)"
      ]
     },
     "execution_count": 36,
     "metadata": {},
     "output_type": "execute_result"
    }
   ],
   "source": [
    "df.shape"
   ]
  },
  {
   "cell_type": "code",
   "execution_count": 38,
   "id": "5593df7b",
   "metadata": {},
   "outputs": [
    {
     "data": {
      "text/plain": [
       "115"
      ]
     },
     "execution_count": 38,
     "metadata": {},
     "output_type": "execute_result"
    }
   ],
   "source": [
    "506-391"
   ]
  },
  {
   "cell_type": "code",
   "execution_count": 39,
   "id": "bee83f6e",
   "metadata": {},
   "outputs": [
    {
     "data": {
      "text/plain": [
       "22.727272727272727"
      ]
     },
     "execution_count": 39,
     "metadata": {},
     "output_type": "execute_result"
    }
   ],
   "source": [
    "115/506   * 100"
   ]
  },
  {
   "cell_type": "code",
   "execution_count": 37,
   "id": "c1281d1c",
   "metadata": {},
   "outputs": [
    {
     "data": {
      "text/plain": [
       "(391, 14)"
      ]
     },
     "execution_count": 37,
     "metadata": {},
     "output_type": "execute_result"
    }
   ],
   "source": [
    "# INTRODUCIR VALORES EN CRIM (MCAR)\n",
    "\n",
    "df_copy = df.copy()\n",
    "\n",
    "df_listwise = df_copy.dropna(subset=['CRIM'])\n",
    "\n",
    "df_listwise.shape"
   ]
  },
  {
   "cell_type": "code",
   "execution_count": 40,
   "id": "47923500",
   "metadata": {},
   "outputs": [
    {
     "name": "stderr",
     "output_type": "stream",
     "text": [
      "C:\\Users\\CristiamAlbertoLoaiz\\AppData\\Local\\Temp\\ipykernel_35796\\1783254079.py:3: FutureWarning: A value is trying to be set on a copy of a DataFrame or Series through chained assignment using an inplace method.\n",
      "The behavior will change in pandas 3.0. This inplace method will never work because the intermediate object on which we are setting values always behaves as a copy.\n",
      "\n",
      "For example, when doing 'df[col].method(value, inplace=True)', try using 'df.method({col: value}, inplace=True)' or df[col] = df[col].method(value) instead, to perform the operation inplace on the original object.\n",
      "\n",
      "\n",
      "  df_copy_2['CRIM'].fillna(df_copy_2['CRIM'].mean(), inplace=True)\n"
     ]
    }
   ],
   "source": [
    "df_copy_2 = df.copy()\n",
    "\n",
    "df_copy_2['CRIM'].fillna(df_copy_2['CRIM'].mean(), inplace=True)"
   ]
  },
  {
   "cell_type": "code",
   "execution_count": 41,
   "id": "54413fa2",
   "metadata": {},
   "outputs": [
    {
     "data": {
      "text/html": [
       "<div>\n",
       "<style scoped>\n",
       "    .dataframe tbody tr th:only-of-type {\n",
       "        vertical-align: middle;\n",
       "    }\n",
       "\n",
       "    .dataframe tbody tr th {\n",
       "        vertical-align: top;\n",
       "    }\n",
       "\n",
       "    .dataframe thead th {\n",
       "        text-align: right;\n",
       "    }\n",
       "</style>\n",
       "<table border=\"1\" class=\"dataframe\">\n",
       "  <thead>\n",
       "    <tr style=\"text-align: right;\">\n",
       "      <th></th>\n",
       "      <th>CRIM</th>\n",
       "      <th>ZN</th>\n",
       "      <th>INDUS</th>\n",
       "      <th>CHAS</th>\n",
       "      <th>NOX</th>\n",
       "      <th>RM</th>\n",
       "      <th>AGE</th>\n",
       "      <th>DIS</th>\n",
       "      <th>RAD</th>\n",
       "      <th>TAX</th>\n",
       "      <th>PTRATIO</th>\n",
       "      <th>B</th>\n",
       "      <th>LSTAT</th>\n",
       "      <th>MEDV</th>\n",
       "    </tr>\n",
       "  </thead>\n",
       "  <tbody>\n",
       "    <tr>\n",
       "      <th>0</th>\n",
       "      <td>0.00632</td>\n",
       "      <td>18.0</td>\n",
       "      <td>2.31</td>\n",
       "      <td>0</td>\n",
       "      <td>0.538</td>\n",
       "      <td>6.575</td>\n",
       "      <td>65.2</td>\n",
       "      <td>4.0900</td>\n",
       "      <td>1</td>\n",
       "      <td>296.0</td>\n",
       "      <td>15.3</td>\n",
       "      <td>396.90</td>\n",
       "      <td>4.98</td>\n",
       "      <td>24.0</td>\n",
       "    </tr>\n",
       "    <tr>\n",
       "      <th>1</th>\n",
       "      <td>0.02731</td>\n",
       "      <td>0.0</td>\n",
       "      <td>7.07</td>\n",
       "      <td>0</td>\n",
       "      <td>0.469</td>\n",
       "      <td>6.421</td>\n",
       "      <td>78.9</td>\n",
       "      <td>4.9671</td>\n",
       "      <td>2</td>\n",
       "      <td>242.0</td>\n",
       "      <td>17.8</td>\n",
       "      <td>396.90</td>\n",
       "      <td>9.14</td>\n",
       "      <td>21.6</td>\n",
       "    </tr>\n",
       "    <tr>\n",
       "      <th>2</th>\n",
       "      <td>0.02729</td>\n",
       "      <td>0.0</td>\n",
       "      <td>7.07</td>\n",
       "      <td>0</td>\n",
       "      <td>0.469</td>\n",
       "      <td>7.185</td>\n",
       "      <td>61.1</td>\n",
       "      <td>4.9671</td>\n",
       "      <td>2</td>\n",
       "      <td>242.0</td>\n",
       "      <td>17.8</td>\n",
       "      <td>392.83</td>\n",
       "      <td>4.03</td>\n",
       "      <td>34.7</td>\n",
       "    </tr>\n",
       "    <tr>\n",
       "      <th>3</th>\n",
       "      <td>0.03237</td>\n",
       "      <td>0.0</td>\n",
       "      <td>2.18</td>\n",
       "      <td>0</td>\n",
       "      <td>0.458</td>\n",
       "      <td>6.998</td>\n",
       "      <td>45.8</td>\n",
       "      <td>6.0622</td>\n",
       "      <td>3</td>\n",
       "      <td>222.0</td>\n",
       "      <td>18.7</td>\n",
       "      <td>394.63</td>\n",
       "      <td>2.94</td>\n",
       "      <td>33.4</td>\n",
       "    </tr>\n",
       "    <tr>\n",
       "      <th>4</th>\n",
       "      <td>3.57559</td>\n",
       "      <td>0.0</td>\n",
       "      <td>2.18</td>\n",
       "      <td>0</td>\n",
       "      <td>0.458</td>\n",
       "      <td>7.147</td>\n",
       "      <td>54.2</td>\n",
       "      <td>6.0622</td>\n",
       "      <td>3</td>\n",
       "      <td>222.0</td>\n",
       "      <td>18.7</td>\n",
       "      <td>396.90</td>\n",
       "      <td>5.33</td>\n",
       "      <td>36.2</td>\n",
       "    </tr>\n",
       "  </tbody>\n",
       "</table>\n",
       "</div>"
      ],
      "text/plain": [
       "      CRIM    ZN  INDUS  CHAS    NOX     RM   AGE     DIS  RAD    TAX  \\\n",
       "0  0.00632  18.0   2.31     0  0.538  6.575  65.2  4.0900    1  296.0   \n",
       "1  0.02731   0.0   7.07     0  0.469  6.421  78.9  4.9671    2  242.0   \n",
       "2  0.02729   0.0   7.07     0  0.469  7.185  61.1  4.9671    2  242.0   \n",
       "3  0.03237   0.0   2.18     0  0.458  6.998  45.8  6.0622    3  222.0   \n",
       "4  3.57559   0.0   2.18     0  0.458  7.147  54.2  6.0622    3  222.0   \n",
       "\n",
       "   PTRATIO       B  LSTAT  MEDV  \n",
       "0     15.3  396.90   4.98  24.0  \n",
       "1     17.8  396.90   9.14  21.6  \n",
       "2     17.8  392.83   4.03  34.7  \n",
       "3     18.7  394.63   2.94  33.4  \n",
       "4     18.7  396.90   5.33  36.2  "
      ]
     },
     "execution_count": 41,
     "metadata": {},
     "output_type": "execute_result"
    }
   ],
   "source": [
    "df_copy_2.head()"
   ]
  },
  {
   "cell_type": "code",
   "execution_count": 43,
   "id": "e11117a7",
   "metadata": {},
   "outputs": [
    {
     "data": {
      "text/plain": [
       "Text(0.5, 1.0, 'Valores de CRIM tras imputación con la media')"
      ]
     },
     "execution_count": 43,
     "metadata": {},
     "output_type": "execute_result"
    },
    {
     "data": {
      "image/png": "[encoded data removed]",
      "text/plain": [
       "<Figure size 1000x600 with 1 Axes>"
      ]
     },
     "metadata": {},
     "output_type": "display_data"
    }
   ],
   "source": [
    "plt.figure(figsize=(10, 6))\n",
    "sns.scatterplot(x=df_copy_2.index, y='CRIM', data=df_copy_2)\n",
    "plt.title(\"Valores de CRIM tras imputación con la media\")"
   ]
  },
  {
   "cell_type": "code",
   "execution_count": 44,
   "id": "29ab5f56",
   "metadata": {},
   "outputs": [
    {
     "data": {
      "image/png": "[encoded data removed]",
      "text/plain": [
       "<Figure size 1200x600 with 1 Axes>"
      ]
     },
     "metadata": {},
     "output_type": "display_data"
    }
   ],
   "source": [
    "# boxplot para comparar distribución antes y después de imputación\n",
    "plt.figure(figsize=(12, 6))\n",
    "sns.boxplot(data=[df['CRIM'], df_copy_2['CRIM']], palette=\"Set2\")\n",
    "plt.xticks([0, 1], ['Original (con nulos)', 'Imputado con media'])\n",
    "plt.show()"
   ]
  },
  {
   "cell_type": "markdown",
   "id": "94dfbd26",
   "metadata": {},
   "source": [
    "#### listwise / eliminar las filas de los datos"
   ]
  },
  {
   "cell_type": "code",
   "execution_count": null,
   "id": "7fc879f5",
   "metadata": {},
   "outputs": [],
   "source": []
  },
  {
   "cell_type": "markdown",
   "id": "e7dbd99a",
   "metadata": {},
   "source": [
    "---"
   ]
  },
  {
   "cell_type": "markdown",
   "id": "fea9bb7e",
   "metadata": {},
   "source": [
    "2. Eliminación (Deletion)\n",
    "\n",
    "Esta técnica implica remover datos incompletos para trabajar solo con observaciones completas. Es simple y no introduce sesgos artificiales de imputación, pero puede reducir significativamente el tamaño del dataset, lo que es problemático si los datos son limitados o si los faltantes no son aleatorios (e.g., en MCAR es más seguro, pero en MAR puede sesgar hacia subgrupos con más datos completos)."
   ]
  },
  {
   "cell_type": "markdown",
   "id": "ac335fb5",
   "metadata": {},
   "source": [
    "**Listwise Deletion (Eliminación por Filas)**: Elimina cualquier fila que tenga al menos un valor faltante. Ideal cuando los faltantes son raros y el dataset es grande.\n",
    "\n",
    "- Pros: Mantiene la integridad de los datos restantes; fácil de implementar.\n",
    "- Contras: Pérdida de información valiosa; puede sesgar si faltantes están correlacionados con variables de interés.\n",
    "- Cuándo usarla: Si <5-10% de los datos faltan y no hay patrones evidentes en los faltantes.\n",
    "\n",
    "**Pairwise Deletion (Eliminación por Pares)**: No elimina filas enteras; en su lugar, ignora faltantes solo para cálculos específicos (e.g., en correlaciones, usa solo pares completos). No modifica el dataset original.\n",
    "- Pros: Maximiza el uso de datos disponibles por análisis.\n",
    "- Contras: Puede llevar a resultados inconsistentes (e.g., diferentes N por variable); no es ideal para modelado ML donde se necesita un dataset completo.\n",
    "\n",
    "Cuándo usarla: En análisis exploratorios como correlaciones, no en preparación para modelos.\n",
    "\n",
    "**Column Deletion (Eliminación por Columnas)**: Remueve columnas enteras con un alto porcentaje de faltantes.\n",
    "- Pros: Simplifica el dataset si la columna no es crítica.\n",
    "- Contras: Pierde variables potencialmente útiles; evalúa primero si la columna es redundante.\n",
    "- Cuándo usarla: Si >50-70% faltan y la columna no es esencial (e.g., una variable auxiliar).\n",
    "Consideraciones Prácticas:\n",
    "\n",
    "Siempre calcula el impacto: Compara el tamaño del dataset antes/después (df.shape).\n",
    "\n",
    "Combina con análisis: Verifica si la eliminación cambia distribuciones (e.g., con df.describe() antes y después).\n",
    "\n",
    "Alternativa híbrida: Elimina filas solo si faltan en columnas clave, usando df.dropna(subset=['columna_importante'])."
   ]
  },
  {
   "cell_type": "code",
   "execution_count": 19,
   "id": "5b538563",
   "metadata": {},
   "outputs": [
    {
     "name": "stdout",
     "output_type": "stream",
     "text": [
      "Dataset original:\n",
      "    edad  salario genero\n",
      "0  25.0  30000.0      M\n",
      "1  30.0      NaN      F\n",
      "2   NaN  45000.0      F\n",
      "3  40.0  50000.0   None\n",
      "4  35.0  35000.0      M\n",
      "5   NaN  40000.0      F\n",
      "6  28.0      NaN      M\n",
      "7  50.0  60000.0      F\n",
      "8  45.0  55000.0   None\n",
      "9   NaN  32000.0      M\n",
      "\n",
      "Tamaño original: (10, 3)\n",
      "\n",
      "Después de Listwise Deletion:\n",
      "    edad  salario genero\n",
      "0  25.0  30000.0      M\n",
      "4  35.0  35000.0      M\n",
      "7  50.0  60000.0      F\n",
      "Tamaño después: (3, 3)\n",
      "\n",
      "Correlación con Pairwise Deletion:\n",
      "              edad   salario\n",
      "edad     1.000000  0.964058\n",
      "salario  0.964058  1.000000\n",
      "\n",
      "Después de Column Deletion (umbral 80% completos):\n",
      "    edad  salario genero\n",
      "0  25.0  30000.0      M\n",
      "1  30.0      NaN      F\n",
      "2   NaN  45000.0      F\n",
      "3  40.0  50000.0   None\n",
      "4  35.0  35000.0      M\n",
      "5   NaN  40000.0      F\n",
      "6  28.0      NaN      M\n",
      "7  50.0  60000.0      F\n",
      "8  45.0  55000.0   None\n",
      "9   NaN  32000.0      M\n"
     ]
    }
   ],
   "source": [
    "import pandas as pd\n",
    "import numpy as np\n",
    "\n",
    "# Dataset ficticio con faltantes\n",
    "data = {\n",
    "    'edad': [25, 30, np.nan, 40, 35, np.nan, 28, 50, 45, np.nan],\n",
    "    'salario': [30000, np.nan, 45000, 50000, 35000, 40000, np.nan, 60000, 55000, 32000],\n",
    "    'genero': ['M', 'F', 'F', None, 'M', 'F', 'M', 'F', None, 'M']\n",
    "}\n",
    "df = pd.DataFrame(data)\n",
    "\n",
    "print(\"Dataset original:\\n\", df)\n",
    "print(\"\\nTamaño original:\", df.shape)\n",
    "\n",
    "# Listwise Deletion: Eliminar filas con cualquier faltante\n",
    "df_listwise = df.dropna()\n",
    "print(\"\\nDespués de Listwise Deletion:\\n\", df_listwise)\n",
    "print(\"Tamaño después:\", df_listwise.shape)\n",
    "\n",
    "# Pairwise Deletion: Ejemplo en correlación (no modifica df)\n",
    "corr_pairwise = df.corr(method='pearson', numeric_only=True)  # Usa pares completos automáticamente\n",
    "print(\"\\nCorrelación con Pairwise Deletion:\\n\", corr_pairwise)\n",
    "\n",
    "# Column Deletion: Eliminar columna si >20% faltan\n",
    "threshold = len(df) * 0.20\n",
    "df_column_drop = df.dropna(axis=1, thresh=threshold)  # thresh = mínimo no-faltantes\n",
    "print(\"\\nDespués de Column Deletion (umbral 80% completos):\\n\", df_column_drop)"
   ]
  },
  {
   "cell_type": "markdown",
   "id": "f595d509",
   "metadata": {},
   "source": []
  }
 ],
 "metadata": {
  "kernelspec": {
   "display_name": ".venv",
   "language": "python",
   "name": "python3"
  },
  "language_info": {
   "codemirror_mode": {
    "name": "ipython",
    "version": 3
   },
   "file_extension": ".py",
   "mimetype": "text/x-python",
   "name": "python",
   "nbconvert_exporter": "python",
   "pygments_lexer": "ipython3",
   "version": "3.10.10"
  }
 },
 "nbformat": 4,
 "nbformat_minor": 5
}
